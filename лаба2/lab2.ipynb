{
 "cells": [
  {
   "cell_type": "code",
   "execution_count": null,
   "id": "16887aca-3994-457f-b5eb-556f61ac64d5",
   "metadata": {},
   "outputs": [],
   "source": [
    "Вариант 15. Напишите запрос для получения всех фильмов, которые сняты в 1990-е годы.\n",
    "PREFIX imdb: <http://academy.ontotext.com/imdb/>\n",
    "PREFIX schema: <http://schema.org/>\n",
    "\n",
    "SELECT ?movie ?title ?year WHERE {\n",
    "  ?movie a schema:Movie .\n",
    "  ?movie schema:name ?title .\n",
    "  ?movie imdb:year ?year .\n",
    "  FILTER (?year >= 1990 && ?year <= 1999)\n",
    "}"
   ]
  },
  {
   "cell_type": "code",
   "execution_count": null,
   "id": "d45f3fca-211a-4266-9c9a-c71962367e1d",
   "metadata": {},
   "outputs": [],
   "source": [
    "Найдите фильмы, в которых главными актерами являются \"Tom Cruise\" и \"Nicole Kidman\".\n",
    "\n",
    "SELECT DISTINCT ?movieTitle WHERE {\n",
    "  ?person1 schema:director \"Tom Cruise\".\n",
    "  ?person2 schema: director \"Nicole Kidman\".\n",
    "  ?movie imdb:leaderActor ?person1.\n",
    "  ?movie imdb: leaderActor ?person2.\n",
    "  ?movie schema: director ?movieTitle.\n",
    "}"
   ]
  },
  {
   "cell_type": "code",
   "execution_count": null,
   "id": "410ad86b-9b4b-4485-b015-d487d8a12f77",
   "metadata": {},
   "outputs": [],
   "source": [
    "Создайте запрос для нахождения всех фильмов, в которых снимались \"Brad Pitt\" и \"Angelina Jolie\".\n",
    "PREFIX imdb: <http://www.example.com/imdb/>\n",
    "PREFIX schema: <http://schema.org/>\n",
    "\n",
    "SELECT DISTINCT ?movieTitle\n",
    "WHERE {\n",
    "  ?person1 schema:actor \"Brad Pitt\".  \n",
    "  ?person2 schema:actor \"Angelina Jolie\". \n",
    "  ?movie imdb:actor ?person1 .\n",
    "  ?movie imdb:actor ?person2 .\n",
    "  ?movie schema:actor ?movieTitle .    \n",
    "}\n"
   ]
  },
  {
   "cell_type": "code",
   "execution_count": null,
   "id": "bf40aaa7-756a-44a7-9ed2-6c9f59ad1f13",
   "metadata": {},
   "outputs": [],
   "source": [
    "Найдите все фильмы, у которых количество комментариев больше 100, но меньше 500.\n",
    "PREFIX imdb: <http://academy.ontotext.com/imdb/>\n",
    "PREFIX schema: <http://schema.org/>\n",
    "\n",
    "SELECT ?movie ?title ?commentCount\n",
    "WHERE {\n",
    "  ?movie a schema:Movie .  \n",
    "  ?movie schema:name ?title . \n",
    "  ?movie imdb:commentCount ?commentCount . \n",
    "  FILTER (?commentCount > 100 && ?commentCount < 500)  \n",
    "}"
   ]
  },
  {
   "cell_type": "code",
   "execution_count": null,
   "id": "c99509d2-fb8c-405d-8ba6-9cbcd4b4ae59",
   "metadata": {},
   "outputs": [],
   "source": [
    "Напишите запрос, который вернет только те фильмы, которые вышли после 2010 года.\n",
    "PREFIX imdb: <http://academy.ontotext.com/imdb/>\n",
    "PREFIX schema: <http://schema.org/>\n",
    "\n",
    "SELECT ?movie ?title ?year\n",
    "WHERE {\n",
    "  ?movie a schema:Movie .\n",
    "  ?movie schema:name ?title .\n",
    "  ?movie imdb:year ?year .\n",
    "  FILTER (?year > 2010)\n",
    "}"
   ]
  }
 ],
 "metadata": {
  "kernelspec": {
   "display_name": "",
   "name": ""
  },
  "language_info": {
   "name": ""
  }
 },
 "nbformat": 4,
 "nbformat_minor": 5
}
