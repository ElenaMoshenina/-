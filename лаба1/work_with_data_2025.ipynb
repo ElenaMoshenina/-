{
 "cells": [
  {
   "cell_type": "code",
   "execution_count": 1,
   "id": "9ae06fcf-0596-4927-9ccf-c62e0c1fb38c",
   "metadata": {},
   "outputs": [
    {
     "name": "stdout",
     "output_type": "stream",
     "text": [
      "Requirement already satisfied: pyspark in /home/devops/.config/jupyterlab-desktop/jlab_server/lib/python3.12/site-packages (3.5.3)\n",
      "Requirement already satisfied: py4j==0.10.9.7 in /home/devops/.config/jupyterlab-desktop/jlab_server/lib/python3.12/site-packages (from pyspark) (0.10.9.7)\n"
     ]
    }
   ],
   "source": [
    "!pip install pyspark"
   ]
  },
  {
   "cell_type": "code",
   "execution_count": 2,
   "id": "71b1f246-eb5c-4d8a-8f68-038a891849be",
   "metadata": {},
   "outputs": [],
   "source": [
    "import pandas as pd\n",
    "import matplotlib.pyplot as plt"
   ]
  },
  {
   "cell_type": "code",
   "execution_count": 3,
   "id": "f160664f-b227-467c-88d4-d33e7c5a3c0f",
   "metadata": {},
   "outputs": [
    {
     "name": "stderr",
     "output_type": "stream",
     "text": [
      "25/04/07 12:11:15 WARN Utils: Your hostname, devopsvm resolves to a loopback address: 127.0.1.1; using 10.0.2.15 instead (on interface enp0s3)\n",
      "25/04/07 12:11:15 WARN Utils: Set SPARK_LOCAL_IP if you need to bind to another address\n",
      "Setting default log level to \"WARN\".\n",
      "To adjust logging level use sc.setLogLevel(newLevel). For SparkR, use setLogLevel(newLevel).\n",
      "25/04/07 12:11:20 WARN NativeCodeLoader: Unable to load native-hadoop library for your platform... using builtin-java classes where applicable\n"
     ]
    }
   ],
   "source": [
    "from pyspark.sql import SparkSession\n",
    "\n",
    "# Создание SparkSession\n",
    "spark = SparkSession.builder \\\n",
    "    .appName(\"Economic Data Analysis\") \\\n",
    "    .config(\"spark.hadoop.fs.defaultFS\", \"hdfs://localhost:9000\") \\\n",
    "    .config(\"spark.ui.port\", \"4050\") \\\n",
    "    .getOrCreate()\n",
    "\n",
    "# Установка количества разделов для shuffle операций\n",
    "spark.conf.set(\"spark.sql.shuffle.partitions\", \"50\")"
   ]
  },
  {
   "cell_type": "code",
   "execution_count": 7,
   "id": "825ce6e6-4e67-45e5-a130-defecd267148",
   "metadata": {},
   "outputs": [
    {
     "name": "stderr",
     "output_type": "stream",
     "text": [
      "                                                                                \r"
     ]
    },
    {
     "name": "stdout",
     "output_type": "stream",
     "text": [
      "+----------+-----+-----+-----+-----+------+------+\n",
      "|      Дата| Цена|Откр.|Макс.| Мин.| Объём|Изм. %|\n",
      "+----------+-----+-----+-----+-----+------+------+\n",
      "|07.04.2025|63,83|66,31|66,48|61,36|44,26M|-3,99%|\n",
      "|06.04.2025|66,48|66,31|66,66|65,26|11,03M| 1,40%|\n",
      "|05.04.2025|65,56|66,31|66,31|64,12| 7,22M|-1,35%|\n",
      "|04.04.2025|66,46|70,90|71,50|65,10|90,01M|-5,54%|\n",
      "|03.04.2025|70,36|67,43|70,59|64,11|38,78M| 4,35%|\n",
      "+----------+-----+-----+-----+-----+------+------+\n",
      "only showing top 5 rows\n",
      "\n"
     ]
    }
   ],
   "source": [
    "# Чтение данных из HDFS\n",
    "file_path = \"hdfs://localhost:9000/Moshenina/hadoop/input/economic_data/AFLT.csv\"\n",
    "df = spark.read.csv(file_path, header=True, inferSchema=True)\n",
    "\n",
    "# Просмотр первых строк данных\n",
    "df.show(5)"
   ]
  },
  {
   "cell_type": "code",
   "execution_count": 8,
   "id": "d5e7d6e6-16be-4f35-b2c6-85d6df11a408",
   "metadata": {},
   "outputs": [
    {
     "data": {
      "text/html": [
       "<div>\n",
       "<style scoped>\n",
       "    .dataframe tbody tr th:only-of-type {\n",
       "        vertical-align: middle;\n",
       "    }\n",
       "\n",
       "    .dataframe tbody tr th {\n",
       "        vertical-align: top;\n",
       "    }\n",
       "\n",
       "    .dataframe thead th {\n",
       "        text-align: right;\n",
       "    }\n",
       "</style>\n",
       "<table border=\"1\" class=\"dataframe\">\n",
       "  <thead>\n",
       "    <tr style=\"text-align: right;\">\n",
       "      <th></th>\n",
       "      <th>Дата</th>\n",
       "      <th>Цена</th>\n",
       "      <th>Откр.</th>\n",
       "      <th>Макс.</th>\n",
       "      <th>Мин.</th>\n",
       "      <th>Объём</th>\n",
       "      <th>Изм. %</th>\n",
       "    </tr>\n",
       "  </thead>\n",
       "  <tbody>\n",
       "    <tr>\n",
       "      <th>0</th>\n",
       "      <td>07.04.2025</td>\n",
       "      <td>63,83</td>\n",
       "      <td>66,31</td>\n",
       "      <td>66,48</td>\n",
       "      <td>61,36</td>\n",
       "      <td>44,26M</td>\n",
       "      <td>-3,99%</td>\n",
       "    </tr>\n",
       "    <tr>\n",
       "      <th>1</th>\n",
       "      <td>06.04.2025</td>\n",
       "      <td>66,48</td>\n",
       "      <td>66,31</td>\n",
       "      <td>66,66</td>\n",
       "      <td>65,26</td>\n",
       "      <td>11,03M</td>\n",
       "      <td>1,40%</td>\n",
       "    </tr>\n",
       "    <tr>\n",
       "      <th>2</th>\n",
       "      <td>05.04.2025</td>\n",
       "      <td>65,56</td>\n",
       "      <td>66,31</td>\n",
       "      <td>66,31</td>\n",
       "      <td>64,12</td>\n",
       "      <td>7,22M</td>\n",
       "      <td>-1,35%</td>\n",
       "    </tr>\n",
       "    <tr>\n",
       "      <th>3</th>\n",
       "      <td>04.04.2025</td>\n",
       "      <td>66,46</td>\n",
       "      <td>70,90</td>\n",
       "      <td>71,50</td>\n",
       "      <td>65,10</td>\n",
       "      <td>90,01M</td>\n",
       "      <td>-5,54%</td>\n",
       "    </tr>\n",
       "    <tr>\n",
       "      <th>4</th>\n",
       "      <td>03.04.2025</td>\n",
       "      <td>70,36</td>\n",
       "      <td>67,43</td>\n",
       "      <td>70,59</td>\n",
       "      <td>64,11</td>\n",
       "      <td>38,78M</td>\n",
       "      <td>4,35%</td>\n",
       "    </tr>\n",
       "  </tbody>\n",
       "</table>\n",
       "</div>"
      ],
      "text/plain": [
       "         Дата   Цена  Откр.  Макс.   Мин.   Объём  Изм. %\n",
       "0  07.04.2025  63,83  66,31  66,48  61,36  44,26M  -3,99%\n",
       "1  06.04.2025  66,48  66,31  66,66  65,26  11,03M   1,40%\n",
       "2  05.04.2025  65,56  66,31  66,31  64,12   7,22M  -1,35%\n",
       "3  04.04.2025  66,46  70,90  71,50  65,10  90,01M  -5,54%\n",
       "4  03.04.2025  70,36  67,43  70,59  64,11  38,78M   4,35%"
      ]
     },
     "execution_count": 8,
     "metadata": {},
     "output_type": "execute_result"
    }
   ],
   "source": [
    "pandas_df = df.toPandas()\n",
    "pandas_df.head()"
   ]
  },
  {
   "cell_type": "markdown",
   "id": "146800d4-fc52-4696-ba46-1113acf252dd",
   "metadata": {},
   "source": [
    "Изменение прав доступа к каталогу:\n",
    "\n",
    "Используйте команду hdfs dfs -chmod для изменения прав доступа и разрешения записи для нужного пользователя:\n",
    "hdfs dfs -chmod 777 /user2/hadoop/economic_data"
   ]
  }
 ],
 "metadata": {
  "kernelspec": {
   "display_name": "Python 3 (ipykernel)",
   "language": "python",
   "name": "python3"
  },
  "language_info": {
   "codemirror_mode": {
    "name": "ipython",
    "version": 3
   },
   "file_extension": ".py",
   "mimetype": "text/x-python",
   "name": "python",
   "nbconvert_exporter": "python",
   "pygments_lexer": "ipython3",
   "version": "3.12.3"
  }
 },
 "nbformat": 4,
 "nbformat_minor": 5
}
