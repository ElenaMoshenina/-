{
 "cells": [
  {
   "cell_type": "code",
   "execution_count": null,
   "id": "9ae06fcf-0596-4927-9ccf-c62e0c1fb38c",
   "metadata": {},
   "outputs": [],
   "source": [
    "!pip install pyspark"
   ]
  },
  {
   "cell_type": "code",
   "execution_count": null,
   "id": "71b1f246-eb5c-4d8a-8f68-038a891849be",
   "metadata": {},
   "outputs": [],
   "source": [
    "import pandas as pd\n",
    "import matplotlib.pyplot as plt"
   ]
  },
  {
   "cell_type": "code",
   "execution_count": null,
   "id": "f160664f-b227-467c-88d4-d33e7c5a3c0f",
   "metadata": {},
   "outputs": [],
   "source": [
    "from pyspark.sql import SparkSession\n",
    "\n",
    "# Создание SparkSession\n",
    "spark = SparkSession.builder \\\n",
    "    .appName(\"Economic Data Analysis\") \\\n",
    "    .config(\"spark.hadoop.fs.defaultFS\", \"hdfs://localhost:9000\") \\\n",
    "    .config(\"spark.ui.port\", \"4050\") \\\n",
    "    .getOrCreate()\n",
    "\n",
    "# Установка количества разделов для shuffle операций\n",
    "spark.conf.set(\"spark.sql.shuffle.partitions\", \"50\")"
   ]
  },
  {
   "cell_type": "code",
   "execution_count": null,
   "id": "825ce6e6-4e67-45e5-a130-defecd267148",
   "metadata": {},
   "outputs": [],
   "source": [
    "# Чтение данных из HDFS\n",
    "file_path = \"hdfs://localhost:9000/user2/hadoop/economic_data/GDP.csv\"\n",
    "df = spark.read.csv(file_path, header=True, inferSchema=True)\n",
    "\n",
    "# Просмотр первых строк данных\n",
    "df.show(5)"
   ]
  },
  {
   "cell_type": "code",
   "execution_count": null,
   "id": "d5e7d6e6-16be-4f35-b2c6-85d6df11a408",
   "metadata": {},
   "outputs": [],
   "source": [
    "pandas_df = df.toPandas()\n",
    "pandas_df.head()"
   ]
  },
  {
   "cell_type": "code",
   "execution_count": null,
   "id": "1df6f934-23f8-4696-b433-c3e99f67a9a1",
   "metadata": {},
   "outputs": [],
   "source": [
    "# Отображение статистики числовых полей\n",
    "summary_statistics = pandas_df.describe()\n",
    "\n",
    "# Визуализация ВВП (GDP) по годам для каждой страны\n",
    "plt.figure(figsize=(12, 8))\n",
    "for country in pandas_df['Country'].unique():\n",
    "    country_data = pandas_df[pandas_df['Country'] == country]\n",
    "    plt.plot(country_data['Year'], country_data['GDP'], marker='o', label=country)\n",
    "\n",
    "plt.title('GDP Over Years by Country')\n",
    "plt.xlabel('Year')\n",
    "plt.ylabel('GDP')\n",
    "plt.legend()\n",
    "plt.show()\n",
    "\n",
    "summary_statistics"
   ]
  },
  {
   "cell_type": "code",
   "execution_count": null,
   "id": "cdc5cfdd-4792-436c-b775-e8a2816ce7dd",
   "metadata": {},
   "outputs": [],
   "source": [
    "pandas_df['Country'].unique()"
   ]
  },
  {
   "cell_type": "code",
   "execution_count": null,
   "id": "4590a2c4-8305-4c92-b1a6-3bad920a101d",
   "metadata": {},
   "outputs": [],
   "source": [
    "# Фильтрация данных только для Italy\n",
    "Italy_data = pandas_df[pandas_df['Country'] == 'Italy']\n",
    "\n",
    "# Отображение статистики для Italy\n",
    "Italy_summary_statistics = Italy_data.describe()\n",
    "\n",
    "# Визуализация ВВП (GDP) для Italy по годам\n",
    "plt.figure(figsize=(10, 6))\n",
    "plt.plot(Italy_data['Year'], Italy_data['GDP'], marker='o', linestyle='-', color='b', label='GDP')\n",
    "plt.title('GDP of Italy Over Years')\n",
    "plt.xlabel('Year')\n",
    "plt.ylabel('GDP')\n",
    "plt.legend()\n",
    "plt.show()\n",
    "\n",
    "Italy_summary_statistics"
   ]
  },
  {
   "cell_type": "code",
   "execution_count": null,
   "id": "5b4e1fd4-3454-4c51-86a7-0f9920c03a6f",
   "metadata": {},
   "outputs": [],
   "source": [
    "# Преобразование Pandas DataFrame обратно в PySpark DataFrame\n",
    "italy_data_spark = spark.createDataFrame(Italy_data)\n"
   ]
  },
  {
   "cell_type": "code",
   "execution_count": null,
   "id": "e01c8289-21d0-4776-a681-0e8e19f01ab7",
   "metadata": {},
   "outputs": [],
   "source": [
    "# Путь в HDFS для сохранения\n",
    "file_path_hdfs = \"hdfs://localhost:9000/user2/hadoop/economic_data/Italy_data.csv\"\n",
    "\n",
    "# Сохранение DataFrame в формате CSV в HDFS\n",
    "italy_data_spark.write.csv(file_path_hdfs, header=True, mode='overwrite')"
   ]
  },
  {
   "cell_type": "code",
   "execution_count": null,
   "id": "3e98adc5-46da-4b0c-a729-411467ea5200",
   "metadata": {},
   "outputs": [],
   "source": [
    "#Ошибка org.apache.hadoop.security.AccessControlException: \n",
    "# Permission denied указывает на то, что текущий пользователь (devops) не имеет прав на запись в указанный каталог HDFS (/user2/hadoop/economic_data)."
   ]
  },
  {
   "cell_type": "markdown",
   "id": "146800d4-fc52-4696-ba46-1113acf252dd",
   "metadata": {},
   "source": [
    "Изменение прав доступа к каталогу:\n",
    "\n",
    "Используйте команду hdfs dfs -chmod для изменения прав доступа и разрешения записи для нужного пользователя:\n",
    "hdfs dfs -chmod 777 /user2/hadoop/economic_data"
   ]
  }
 ],
 "metadata": {
  "kernelspec": {
   "display_name": "Python 3 (ipykernel)",
   "language": "python",
   "name": "python3"
  },
  "language_info": {
   "codemirror_mode": {
    "name": "ipython",
    "version": 3
   },
   "file_extension": ".py",
   "mimetype": "text/x-python",
   "name": "python",
   "nbconvert_exporter": "python",
   "pygments_lexer": "ipython3",
   "version": "3.12.3"
  }
 },
 "nbformat": 4,
 "nbformat_minor": 5
}
